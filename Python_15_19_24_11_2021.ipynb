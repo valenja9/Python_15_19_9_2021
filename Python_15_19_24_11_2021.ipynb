{
  "nbformat": 4,
  "nbformat_minor": 0,
  "metadata": {
    "colab": {
      "name": "Python_15_19_24_11_2021.ipynb",
      "provenance": [],
      "authorship_tag": "ABX9TyNNo2zyNM0Z7SjronNsYpYK",
      "include_colab_link": true
    },
    "kernelspec": {
      "name": "python3",
      "display_name": "Python 3"
    },
    "language_info": {
      "name": "python"
    }
  },
  "cells": [
    {
      "cell_type": "markdown",
      "metadata": {
        "id": "view-in-github",
        "colab_type": "text"
      },
      "source": [
        "<a href=\"https://colab.research.google.com/github/valenja9/Python_15_19_9_2021/blob/main/Python_15_19_24_11_2021.ipynb\" target=\"_parent\"><img src=\"https://colab.research.google.com/assets/colab-badge.svg\" alt=\"Open In Colab\"/></a>"
      ]
    },
    {
      "cell_type": "code",
      "metadata": {
        "colab": {
          "base_uri": "https://localhost:8080/"
        },
        "id": "pDJWsCzLpZ5N",
        "outputId": "feec354d-dbf3-4272-ac22-8130cbaead35"
      },
      "source": [
        "#Napis program, ktery mi zjiti delku vaseho textu.\n",
        "text = \"Python\"\n",
        "pocet = 0\n",
        "for t in text:\n",
        "  pocet = pocet + 1\n",
        "print(pocet)"
      ],
      "execution_count": 1,
      "outputs": [
        {
          "output_type": "stream",
          "name": "stdout",
          "text": [
            "6\n"
          ]
        }
      ]
    },
    {
      "cell_type": "code",
      "metadata": {
        "colab": {
          "base_uri": "https://localhost:8080/"
        },
        "id": "QuDXYPUgeaFW",
        "outputId": "5dde277c-c996-4b41-8617-02c3f50537bf"
      },
      "source": [
        "len(text)"
      ],
      "execution_count": 3,
      "outputs": [
        {
          "output_type": "execute_result",
          "data": {
            "text/plain": [
              "6"
            ]
          },
          "metadata": {},
          "execution_count": 3
        }
      ]
    },
    {
      "cell_type": "code",
      "metadata": {
        "id": "bkvma6yypjNH"
      },
      "source": [
        "#Vytvor funkci, ktera zjisti delku vaseho textu.\n",
        "# - Vraci ciislo\n",
        "text = \"Python\"\n",
        "def delka_textu(text_pro_prijiti: str) -> int: # tohle se deje ve funkce text_pro_prijiti = text\n",
        "  \"\"\"Tato funkce vraci vyslednou delku slova\"\"\"\n",
        "  vysledek = 0\n",
        "  for pismeno in text_pro_prijiti:\n",
        "    #vysledek = vysledek + 1\n",
        "    vysledek += 1\n",
        "  return vysledek\n",
        "\n",
        "vysledek = delka_textu(text) #tady potrebuji vravet,  text je argumentem funkce....funkci mam nadefinovanou tak, ze chce jeden argument"
      ],
      "execution_count": 6,
      "outputs": []
    },
    {
      "cell_type": "code",
      "metadata": {
        "colab": {
          "base_uri": "https://localhost:8080/"
        },
        "id": "v9C4OtrtgFrQ",
        "outputId": "2cd1c0eb-ccf8-402e-c361-663145ae0e9c"
      },
      "source": [
        "help(delka_textu)"
      ],
      "execution_count": 7,
      "outputs": [
        {
          "output_type": "stream",
          "name": "stdout",
          "text": [
            "Help on function delka_textu in module __main__:\n",
            "\n",
            "delka_textu(text_pro_prijiti: str) -> int\n",
            "    Tato funkce vraci vyslednou delku slova\n",
            "\n"
          ]
        }
      ]
    },
    {
      "cell_type": "code",
      "metadata": {
        "colab": {
          "base_uri": "https://localhost:8080/"
        },
        "id": "y_OaS-lxfuQn",
        "outputId": "fc171742-83cf-4414-d861-91dcfd4468ae"
      },
      "source": [
        "vysledek"
      ],
      "execution_count": 5,
      "outputs": [
        {
          "output_type": "execute_result",
          "data": {
            "text/plain": [
              "6"
            ]
          },
          "metadata": {},
          "execution_count": 5
        }
      ]
    },
    {
      "cell_type": "code",
      "metadata": {
        "id": "dE6xzPNTvVvq"
      },
      "source": [
        "#Vytvor funkci, ktera projde vsechny jmena v listu.\n",
        "# vrati vsechna jmena, ktera zacinaji na M (Jak vracet vic veci?)\n",
        "text = \n",
        "def delka_textu():\n",
        "  pass"
      ],
      "execution_count": null,
      "outputs": []
    },
    {
      "cell_type": "code",
      "metadata": {
        "id": "nFUnzDu1v24D"
      },
      "source": [
        "#Pro oba priklady vytvor hlavni funkci\n",
        "#Vytvor funkci, ktera zjisti delku vaseho textu.\n",
        "# - Vraci ciislo\n",
        "\n",
        "ODDELOVAC = \"-\" * 60\n",
        "\n",
        "def delka_textu(text_pro_prijiti: str) -> int: # tohle se deje ve funkce text_pro_prijiti = text\n",
        "  \"\"\"Tato funkce vraci vyslednou delku slova\"\"\"\n",
        "  vysledek = 0\n",
        "  for pismeno in text_pro_prijiti:\n",
        "    #vysledek = vysledek + 1\n",
        "    vysledek += 1\n",
        "  return vysledek\n",
        "\n",
        "def hlavni():\n",
        "  print(ODDELOVAC, \"Vitej v nasi aplikaci, ktera zjisti delku slova\",ODDELOVAC, sep='\\n')\n",
        "  text = input(\"Zadej slovo: \")\n",
        "  vysledek = delka_textu(text) #tady potrebuji vravet,  text je argumentem funkce....funkci mam nadefinovanou tak, ze chce jeden argument\n",
        "  print(vysledek)"
      ],
      "execution_count": 16,
      "outputs": []
    },
    {
      "cell_type": "code",
      "metadata": {
        "colab": {
          "base_uri": "https://localhost:8080/"
        },
        "id": "NFv9j2awgwf7",
        "outputId": "fbbc86fd-698e-4511-800f-a0fb9db47d54"
      },
      "source": [
        "hlavni()"
      ],
      "execution_count": 17,
      "outputs": [
        {
          "output_type": "stream",
          "name": "stdout",
          "text": [
            "------------------------------------------------------------\n",
            "Vitej v nasi aplikaci, ktera zjisti delku slova\n",
            "------------------------------------------------------------\n",
            "Zadej slovo: Nejneobhospo\n",
            "12\n"
          ]
        }
      ]
    },
    {
      "cell_type": "code",
      "metadata": {
        "id": "oY4Da920v87d"
      },
      "source": [
        "#Jak s vytvari textovy file?\n"
      ],
      "execution_count": null,
      "outputs": []
    },
    {
      "cell_type": "code",
      "metadata": {
        "id": "GDsPlBvypq95"
      },
      "source": [
        "#Vytvor funkci, ktera si od uzivatele vezme vek,jmeno,prijmeni vsechno ulozi do listu a vrati list. \n",
        "def zadani_uzivatele() -> list:\n",
        "  pass\n",
        "#Vytvor funkci, ktera vlozi informace do sablony a vrati celkovy text\n",
        "def hotova_sablona() -> str:\n",
        "  pass\n",
        "#Vytvor funkci, ktera ulozi text do souboru. Tato funkce nic nevraci... jen vytvori soubor\n",
        "def uloz_text() -> None:\n",
        "  pass\n",
        "#Vytvor funkci, ktera nacte text do souboru\n",
        "def nacti_text() -> str:\n",
        "  pass\n",
        " \n",
        "#Pro vsechno vytvor hlavni funkci.\n",
        "def hlavni()\n",
        "  pass\n",
        "\n",
        "#Ze souboru udelej bat soubor at ho muzes pouzit pouzit i na plose.\n"
      ],
      "execution_count": null,
      "outputs": []
    }
  ]
}