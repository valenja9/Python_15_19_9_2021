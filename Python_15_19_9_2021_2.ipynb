{
  "nbformat": 4,
  "nbformat_minor": 0,
  "metadata": {
    "colab": {
      "name": "Python_15_19_9_2021_2.ipynb",
      "provenance": [],
      "authorship_tag": "ABX9TyNe8Q0pZhLwPHMCSY3sBZru",
      "include_colab_link": true
    },
    "kernelspec": {
      "name": "python3",
      "display_name": "Python 3"
    },
    "language_info": {
      "name": "python"
    }
  },
  "cells": [
    {
      "cell_type": "markdown",
      "metadata": {
        "id": "view-in-github",
        "colab_type": "text"
      },
      "source": [
        "<a href=\"https://colab.research.google.com/github/valenja9/Python_15_19_9_2021/blob/main/Python_15_19_9_2021_2.ipynb\" target=\"_parent\"><img src=\"https://colab.research.google.com/assets/colab-badge.svg\" alt=\"Open In Colab\"/></a>"
      ]
    },
    {
      "cell_type": "code",
      "metadata": {
        "id": "88zDpNOSGIhP"
      },
      "source": [
        ""
      ],
      "execution_count": null,
      "outputs": []
    },
    {
      "cell_type": "code",
      "metadata": {
        "id": "mmtJOpiz3skQ"
      },
      "source": [
        "#Vytvorte program, ktery si od uzivatele necha zadat celkem 2 vety a nakoc je spoji dohromady\n",
        "\n",
        "\n",
        "#Vysledek vypise pomoci \n",
        "print(\"Vety vypadaji tako: \", celkovy_text)"
      ],
      "execution_count": null,
      "outputs": []
    },
    {
      "cell_type": "code",
      "metadata": {
        "id": "AV0tma6U6Iww",
        "colab": {
          "base_uri": "https://localhost:8080/"
        },
        "outputId": "dbca5e22-532b-4ec7-cc3a-56137b4be47c"
      },
      "source": [
        "veta1 = input(\"Napiš větu 1: \")\n",
        "veta2 = input(\"Napiš větu 2: \")\n",
        "print(\"Věty vypadají takto:\", veta1 + \" \" + veta2)"
      ],
      "execution_count": null,
      "outputs": [
        {
          "output_type": "stream",
          "name": "stdout",
          "text": [
            "Napiš větu 1: Dnes je 29.9.\n",
            "Napiš větu 2: A je streda.\n",
            "Věty vypadají takto: Dnes je 29.9. A je streda.\n"
          ]
        }
      ]
    },
    {
      "cell_type": "code",
      "metadata": {
        "id": "VPGFi6Rc5-yY",
        "colab": {
          "base_uri": "https://localhost:8080/"
        },
        "outputId": "12f1e903-a98e-48d2-890e-ae6442f297cc"
      },
      "source": [
        "veta_1 = input(\"zadej vetu: \")\n",
        "veta_2 = input(\"zadej vetu: \")\n",
        "celkovy_text = veta_1, veta_2 #pozor na tuple\n",
        "print(type(celkovy_text))\n",
        "print(\"vety vypadaji takto:  \", celkovy_text)"
      ],
      "execution_count": null,
      "outputs": [
        {
          "output_type": "stream",
          "name": "stdout",
          "text": [
            "zadej vetu: a\n",
            "zadej vetu: d\n",
            "<class 'tuple'>\n",
            "vety vypadaji takto:   ('a', 'd')\n"
          ]
        }
      ]
    },
    {
      "cell_type": "code",
      "metadata": {
        "id": "Qse9RVCb75O7"
      },
      "source": [
        "list_cisel = [1,2,4,5]\n",
        "list_cisel[2] = 80"
      ],
      "execution_count": null,
      "outputs": []
    },
    {
      "cell_type": "code",
      "metadata": {
        "id": "eqI2b9nV8fGp",
        "colab": {
          "base_uri": "https://localhost:8080/"
        },
        "outputId": "e15d0ebe-7a42-4a37-f604-5e68f940c924"
      },
      "source": [
        "list_cisel"
      ],
      "execution_count": null,
      "outputs": [
        {
          "output_type": "execute_result",
          "data": {
            "text/plain": [
              "[1, 2, 80, 5]"
            ]
          },
          "metadata": {},
          "execution_count": 13
        }
      ]
    },
    {
      "cell_type": "code",
      "metadata": {
        "id": "PqNBcejU7tu0",
        "colab": {
          "base_uri": "https://localhost:8080/",
          "height": 35
        },
        "outputId": "b539cde2-91ab-4ca8-948a-1f99bfbb2489"
      },
      "source": [
        "celkovy_text[1]"
      ],
      "execution_count": null,
      "outputs": [
        {
          "output_type": "execute_result",
          "data": {
            "application/vnd.google.colaboratory.intrinsic+json": {
              "type": "string"
            },
            "text/plain": [
              "'d'"
            ]
          },
          "metadata": {},
          "execution_count": 7
        }
      ]
    },
    {
      "cell_type": "code",
      "metadata": {
        "id": "aUcusZni8K7P"
      },
      "source": [
        "celkovy_text = celkovy_text + (\"a\",\"b\")"
      ],
      "execution_count": null,
      "outputs": []
    },
    {
      "cell_type": "code",
      "metadata": {
        "id": "qm0Dak7T8WXc",
        "colab": {
          "base_uri": "https://localhost:8080/"
        },
        "outputId": "ae052304-ca33-4202-fd29-f77e86b9ea7c"
      },
      "source": [
        "print(celkovy_text)"
      ],
      "execution_count": null,
      "outputs": [
        {
          "output_type": "stream",
          "name": "stdout",
          "text": [
            "('a', 'd', 'a', 'b')\n"
          ]
        }
      ]
    },
    {
      "cell_type": "code",
      "metadata": {
        "id": "449e98ZN6NKD",
        "colab": {
          "base_uri": "https://localhost:8080/"
        },
        "outputId": "d9400125-1368-41ce-f45a-95b35cd82e8d"
      },
      "source": [
        "veta1 = input(\"Zadej vetu1: \")\n",
        "veta2 = input(\"Zadej vetu 2: \")\n",
        "vypln = \" \"\n",
        "print(veta1 + vypln + veta2)"
      ],
      "execution_count": null,
      "outputs": [
        {
          "output_type": "stream",
          "name": "stdout",
          "text": [
            "Zadej vetu1: Ahoj\n",
            "Zadej vetu 2: jak to jde\n",
            "Ahoj jak to jde\n"
          ]
        }
      ]
    },
    {
      "cell_type": "code",
      "metadata": {
        "id": "YImJI0nF6Cc0",
        "colab": {
          "base_uri": "https://localhost:8080/"
        },
        "outputId": "06ace633-94f5-43be-81c8-0d5f80cf09a8"
      },
      "source": [
        "veta_1 = input (\"Zde napiš první větu.\")\n",
        "veta_2 = input (\"Zde napiš druhou větu.\")\n",
        "print(veta_1, veta_2)"
      ],
      "execution_count": null,
      "outputs": [
        {
          "output_type": "stream",
          "name": "stdout",
          "text": [
            "Zde napiš první větu.Ahoj tohle je trochu delsi veta\n",
            "Zde napiš druhou větu.kratsi\n",
            "Ahoj Tohle Je Trochu Delsi Veta kratsi\n"
          ]
        }
      ]
    },
    {
      "cell_type": "code",
      "metadata": {
        "id": "-aUrZt3e6fpK"
      },
      "source": [
        "veta1 = input(\"Věta 1\")\n",
        "veta2 = input(\"Věta 2\")\n",
        "print(veta1 + veta2)"
      ],
      "execution_count": null,
      "outputs": []
    },
    {
      "cell_type": "code",
      "metadata": {
        "id": "ouD141sG9Tno",
        "colab": {
          "base_uri": "https://localhost:8080/"
        },
        "outputId": "58fab0f8-0bcc-459a-84ff-d40c4b0c434e"
      },
      "source": [
        "vysledny_text = \"\"  #Predvytvorim si text abych do nej mohl postupne ukladt ty vety \n",
        "for i in [1,2,3,4,5,6,7]:   #Koncim : ....Pokud vim kolikrtat se bude opakovat, tak pouziju for cyklus.\n",
        "  veta = input(f\"Zadej vetu{i}: \")\n",
        "  if i == 1: # if <neco co ma pravdivost True/False>:\n",
        "    vysledny_text = vysledny_text + veta\n",
        "  else:\n",
        "    vysledny_text = vysledny_text + \" \" + veta\n",
        "print(vysledny_text)"
      ],
      "execution_count": null,
      "outputs": [
        {
          "output_type": "stream",
          "name": "stdout",
          "text": [
            "Zadej vetu1: a\n",
            "Zadej vetu2: d\n",
            "Zadej vetu3: f\n",
            "Zadej vetu4: \n",
            "Zadej vetu5: F\n",
            "Zadej vetu6: g\n",
            "Zadej vetu7: h\n",
            "a d f  F g h\n"
          ]
        }
      ]
    },
    {
      "cell_type": "code",
      "metadata": {
        "id": "gFVxsdKVAL-H",
        "colab": {
          "base_uri": "https://localhost:8080/"
        },
        "outputId": "90aa01c2-b806-4cb1-9063-1b3e31d3fa3c"
      },
      "source": [
        "list(range(1,8))"
      ],
      "execution_count": null,
      "outputs": [
        {
          "output_type": "execute_result",
          "data": {
            "text/plain": [
              "[1, 2, 3, 4, 5, 6, 7]"
            ]
          },
          "metadata": {},
          "execution_count": 21
        }
      ]
    },
    {
      "cell_type": "code",
      "metadata": {
        "id": "YDigkjUCAFXX"
      },
      "source": [
        "vysledny_text = \"\"  #Predvytvorim si text abych do nej mohl postupne ukladt ty vety \n",
        "for i in range(1,8):   #Koncim : ....Pokud vim kolikrtat se bude opakovat, tak pouziju for cyklus.\n",
        "  veta = input(f\"Zadej vetu{i}: \")\n",
        "  if i == 1: # if <neco co ma pravdivost True/False>:\n",
        "    vysledny_text = vysledny_text + veta\n",
        "  else:\n",
        "    vysledny_text = vysledny_text + \" \" + veta\n",
        "print(vysledny_text)"
      ],
      "execution_count": null,
      "outputs": []
    },
    {
      "cell_type": "code",
      "metadata": {
        "id": "ujJEKHRNAkhy",
        "colab": {
          "base_uri": "https://localhost:8080/"
        },
        "outputId": "b2aee76b-a0e0-4669-b1f3-a94508216eaf"
      },
      "source": [
        "#While\n",
        "\n",
        "zadej = \"\"\n",
        "vysledny_text = \"\"\n",
        "cislo = 0\n",
        "while zadej != \"exit\": #While <Podminka> True, False\n",
        "  zadej = input(\"Zadej vetu: \")\n",
        "  cislo = cislo + 1\n",
        "  if cislo == 1:\n",
        "    vysledny_text = vysledny_text + zadej\n",
        "  else:\n",
        "    vysledny_text = vysledny_text + \" \" + zadej\n",
        "\n",
        "print(vysledny_text)"
      ],
      "execution_count": null,
      "outputs": [
        {
          "output_type": "stream",
          "name": "stdout",
          "text": [
            "Zadej vetu: a\n",
            "Zadej vetu: d\n",
            "Zadej vetu: exit\n",
            "a d exit\n"
          ]
        }
      ]
    },
    {
      "cell_type": "code",
      "metadata": {
        "id": "pK3xZUCyCU5P",
        "colab": {
          "base_uri": "https://localhost:8080/"
        },
        "outputId": "92107f5d-5d8f-41fd-e795-1fa6d06b49b8"
      },
      "source": [
        "\n",
        "cislo = 0\n",
        "vysledny_text = \"\"\n",
        "while True: #While <Podminka> True, False\n",
        "  zadej = input(\"Zadej vetu nebo zadej exit: \")\n",
        "\n",
        "  if zadej.lower() == \"exit\":\n",
        "    print(\"Koncim zadavani\")\n",
        "    break\n",
        "    \n",
        "  else:  \n",
        "    cislo = cislo + 1\n",
        "    if cislo == 1:\n",
        "      vysledny_text = vysledny_text + zadej\n",
        "    else:\n",
        "      vysledny_text = vysledny_text + \" \" + zadej\n",
        "\n",
        "print(vysledny_text)"
      ],
      "execution_count": null,
      "outputs": [
        {
          "output_type": "stream",
          "name": "stdout",
          "text": [
            "Zadej vetu nebo zadej exit: a\n",
            "Zadej vetu nebo zadej exit: b\n",
            "Zadej vetu nebo zadej exit: d\n",
            "Zadej vetu nebo zadej exit: s\n",
            "Zadej vetu nebo zadej exit: f\n",
            "Zadej vetu nebo zadej exit: s\n",
            "Zadej vetu nebo zadej exit: exit\n",
            "Koncim zadavani\n",
            "a b d s f s\n"
          ]
        }
      ]
    },
    {
      "cell_type": "code",
      "metadata": {
        "id": "hi1U8TkFDWcD",
        "colab": {
          "base_uri": "https://localhost:8080/"
        },
        "outputId": "6e66f6b6-4f17-4cfc-9b80-c031cfb09aba"
      },
      "source": [
        "\n",
        "\n",
        "vysledny_text = []\n",
        "while True: #While <Podminka> True, False\n",
        "  zadej = input(\"Zadej vetu nebo zadej exit: \")\n",
        "  if zadej.lower() == \"exit\":\n",
        "    print(\"Koncim zadavani\")\n",
        "    break\n",
        "    \n",
        "  else:  \n",
        "    vysledny_text.append(zadej)\n",
        "\n",
        "print(\" \".join(vysledny_text))"
      ],
      "execution_count": null,
      "outputs": [
        {
          "output_type": "stream",
          "name": "stdout",
          "text": [
            "Zadej vetu nebo zadej exit: ahoj\n",
            "Zadej vetu nebo zadej exit: jak \n",
            "Zadej vetu nebo zadej exit: se\n",
            "Zadej vetu nebo zadej exit: vede\n",
            "Zadej vetu nebo zadej exit: exit\n",
            "Koncim zadavani\n",
            "ahoj jak  se vede\n"
          ]
        }
      ]
    },
    {
      "cell_type": "code",
      "metadata": {
        "id": "J5FbiTaNEGLm"
      },
      "source": [
        "slovo = \"text\"\n",
        "slovo.split"
      ],
      "execution_count": null,
      "outputs": []
    },
    {
      "cell_type": "code",
      "metadata": {
        "id": "8uaejGaiEm3w",
        "colab": {
          "base_uri": "https://localhost:8080/"
        },
        "outputId": "c04e7f7e-2364-400d-aded-a4f031d6deeb"
      },
      "source": [
        "list_cisel = ['a'] * 60\n",
        "list_cisel.count(\"a\")"
      ],
      "execution_count": null,
      "outputs": [
        {
          "output_type": "execute_result",
          "data": {
            "text/plain": [
              "60"
            ]
          },
          "metadata": {},
          "execution_count": 35
        }
      ]
    },
    {
      "cell_type": "code",
      "metadata": {
        "id": "FamP81O6FF_p"
      },
      "source": [
        "tuple_info = 2, 4, 5, 6\n",
        "tuple_info."
      ],
      "execution_count": null,
      "outputs": []
    }
  ]
}