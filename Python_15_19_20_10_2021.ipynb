{
  "nbformat": 4,
  "nbformat_minor": 0,
  "metadata": {
    "colab": {
      "name": "Python_15_19_20_10_2021.ipynb",
      "provenance": [],
      "authorship_tag": "ABX9TyNo8KJIxFUoRxHmL1BCGcZa",
      "include_colab_link": true
    },
    "kernelspec": {
      "name": "python3",
      "display_name": "Python 3"
    },
    "language_info": {
      "name": "python"
    }
  },
  "cells": [
    {
      "cell_type": "markdown",
      "metadata": {
        "id": "view-in-github",
        "colab_type": "text"
      },
      "source": [
        "<a href=\"https://colab.research.google.com/github/valenja9/Python_15_19_9_2021/blob/main/Python_15_19_20_10_2021.ipynb\" target=\"_parent\"><img src=\"https://colab.research.google.com/assets/colab-badge.svg\" alt=\"Open In Colab\"/></a>"
      ]
    },
    {
      "cell_type": "code",
      "metadata": {
        "id": "mk0lnlCC9APi"
      },
      "source": [
        "data = {'base': 'stations',\n",
        "        'clouds': {'all': 75},\n",
        "        'cod': 200,\n",
        "        'coord': {'lat': 51.5085, 'lon': -0.1257},\n",
        "        'dt': 1634733335,\n",
        "        'id': 2643743,\n",
        "        'main': {'feels_like': 290.27,\n",
        "          'humidity': 71,\n",
        "          'pressure': 999,\n",
        "          'temp': 290.61,\n",
        "          'temp_max': 292.01,\n",
        "          'temp_min': 288.64},\n",
        "        'name': 'London',\n",
        "        'sys': {'country': 'GB',\n",
        "          'id': 2019646,\n",
        "          'sunrise': 1634711579,\n",
        "          'sunset': 1634749035,\n",
        "          'type': 2},\n",
        "        'timezone': 3600,\n",
        "        'visibility': 10000,\n",
        "        'weather': [{'description': 'broken clouds',\n",
        "          'icon': '04d',\n",
        "          'id': 803,\n",
        "          'main': 'Clouds'}],\n",
        "        'wind': {'deg': 250, 'gust': 12.86, 'speed': 7.2}}"
      ],
      "execution_count": 13,
      "outputs": []
    },
    {
      "cell_type": "code",
      "metadata": {
        "colab": {
          "base_uri": "https://localhost:8080/"
        },
        "id": "6danyj5gJk6a",
        "outputId": "ca48706b-1de6-42e1-e3d2-f08066ea055a"
      },
      "source": [
        "data.keys()"
      ],
      "execution_count": 14,
      "outputs": [
        {
          "output_type": "execute_result",
          "data": {
            "text/plain": [
              "dict_keys(['base', 'clouds', 'cod', 'coord', 'dt', 'id', 'main', 'name', 'sys', 'timezone', 'visibility', 'weather', 'wind'])"
            ]
          },
          "metadata": {},
          "execution_count": 14
        }
      ]
    },
    {
      "cell_type": "code",
      "metadata": {
        "colab": {
          "base_uri": "https://localhost:8080/"
        },
        "id": "WQtd0jaYJ6EX",
        "outputId": "e3184548-505c-4a78-affd-a2926b2ab53e"
      },
      "source": [
        "data[\"main\"][\"temp_max\"]"
      ],
      "execution_count": 16,
      "outputs": [
        {
          "output_type": "execute_result",
          "data": {
            "text/plain": [
              "292.01"
            ]
          },
          "metadata": {},
          "execution_count": 16
        }
      ]
    },
    {
      "cell_type": "code",
      "metadata": {
        "colab": {
          "base_uri": "https://localhost:8080/",
          "height": 35
        },
        "id": "fqBGvP-sKc4U",
        "outputId": "01ce189b-9fbb-4407-9a52-31c416989fc0"
      },
      "source": [
        "data[\"weather\"][0]['description']"
      ],
      "execution_count": 20,
      "outputs": [
        {
          "output_type": "execute_result",
          "data": {
            "application/vnd.google.colaboratory.intrinsic+json": {
              "type": "string"
            },
            "text/plain": [
              "'broken clouds'"
            ]
          },
          "metadata": {},
          "execution_count": 20
        }
      ]
    },
    {
      "cell_type": "code",
      "metadata": {
        "colab": {
          "base_uri": "https://localhost:8080/"
        },
        "id": "nWdKiHHbArN7",
        "outputId": "4e0aa17d-b922-4214-c91a-4e23a870bfce"
      },
      "source": [
        "slovnik = {\"jmeno\" : \"Petr\", \"prijmeni\" : \"Novak\", \"vek\" : 56}\n",
        "print(\"Vybirej z techto klicu: \", list(slovnik.keys()))\n",
        "\n",
        "while True:\n",
        "  volba = input(\"Vyber si klic nebo ukonci exit: \").lower()\n",
        "  if volba == \"exit\":\n",
        "    break\n",
        "  elif volba == \"jmeno\": #Dodelat dalsi elif.\n",
        "    print(\"Tvoje krestni jmeno je: \",  slovnik[\"jmeno\"])\n",
        "  else:\n",
        "    print(\"Nic takoveho tu nemame\")"
      ],
      "execution_count": 12,
      "outputs": [
        {
          "name": "stdout",
          "output_type": "stream",
          "text": [
            "Vybirej z techto klicu:  ['jmeno', 'prijmeni', 'vek']\n",
            "Vyber si klic nebo ukonci exit: vek\n",
            "Nic takoveho tu nemame\n",
            "Vyber si klic nebo ukonci exit: jmeno\n",
            "Tvoje krestni jmeno je:  Petr\n",
            "Vyber si klic nebo ukonci exit: exit\n"
          ]
        }
      ]
    },
    {
      "cell_type": "code",
      "metadata": {
        "colab": {
          "base_uri": "https://localhost:8080/"
        },
        "id": "L9W5OeQGE4zo",
        "outputId": "25ed46ee-773b-47a9-cc3b-1ed184cba8a4"
      },
      "source": [
        "slovnik.values()"
      ],
      "execution_count": 7,
      "outputs": [
        {
          "output_type": "execute_result",
          "data": {
            "text/plain": [
              "dict_values(['Petr', 'Novak', 56])"
            ]
          },
          "metadata": {},
          "execution_count": 7
        }
      ]
    },
    {
      "cell_type": "code",
      "metadata": {
        "colab": {
          "base_uri": "https://localhost:8080/"
        },
        "id": "ug-cR8gzE7hQ",
        "outputId": "06be01c5-85d2-4d42-da73-91a14e85ac3f"
      },
      "source": [
        "slovnik.items()"
      ],
      "execution_count": 8,
      "outputs": [
        {
          "output_type": "execute_result",
          "data": {
            "text/plain": [
              "dict_items([('jmeno', 'Petr'), ('prijmeni', 'Novak'), ('vek', 56)])"
            ]
          },
          "metadata": {},
          "execution_count": 8
        }
      ]
    },
    {
      "cell_type": "code",
      "metadata": {
        "id": "FnKseYYaNXVr"
      },
      "source": [
        "oddelovac = \"=\" * 80\n",
        "while True:\n",
        "  #procti jednotlive zaznamy\n",
        "  list_klicu = list(slovnik_dat.keys())\n",
        "  print(\"----\".join(list_klicu))\n",
        "  volba = input(\"Zadej co chces vedet jinak dej exit pro ukonceni: \").lower()\n",
        "  if volba == \"exit\":\n",
        "    break\n",
        "  elif volba == \"main\":\n",
        "     data = slovnik_dat['main']\n",
        "     print(\"----\".join(list(slovnik_dat['main'].keys())))\n",
        "     klic = input(\"Zadej klic: \").lower()\n",
        "\n",
        "  #doplnte elif\n",
        "     if klic == 'temp_max':\n",
        "       print(f\"Maximalni telplota v Kelvinech je: {data['temp_max']}\")\n",
        "     #doplnte elif\n",
        "     else:\n",
        "       print(\"Spatny vyber.\")\n",
        "  else:\n",
        "    print(\"Spatny vyber.\")\n",
        "print(\"Děkuji za puziti teto aplikace.\")\n"
      ],
      "execution_count": null,
      "outputs": []
    },
    {
      "cell_type": "code",
      "metadata": {
        "id": "B_v1SPApUeBb"
      },
      "source": [
        "slovnik_dat = {'base': 'stations',\n",
        "        'clouds': {'all': 75},\n",
        "        'cod': 200,\n",
        "        'coord': {'lat': 51.5085, 'lon': -0.1257},\n",
        "        'dt': 1634733335,\n",
        "        'id': 2643743,\n",
        "        'main': {'feels_like': 290.27,\n",
        "          'humidity': 71,\n",
        "          'pressure': 999,\n",
        "          'temp': 290.61,\n",
        "          'temp_max': 292.01,\n",
        "          'temp_min': 288.64},\n",
        "        'name': 'London',\n",
        "        'sys': {'country': 'GB',\n",
        "          'id': 2019646,\n",
        "          'sunrise': 1634711579,\n",
        "          'sunset': 1634749035,\n",
        "          'type': 2},\n",
        "        'timezone': 3600,\n",
        "        'visibility': 10000,\n",
        "        'weather': [{'description': 'broken clouds',\n",
        "          'icon': '04d',\n",
        "          'id': 803,\n",
        "          'main': 'Clouds'}],\n",
        "        'wind': {'deg': 250, 'gust': 12.86, 'speed': 7.2}}"
      ],
      "execution_count": 28,
      "outputs": []
    },
    {
      "cell_type": "code",
      "metadata": {
        "id": "So8Xk4GnUlYe"
      },
      "source": [
        "def volba_klice(volba, klice, slovnik):\n",
        "  for klic in klice:\n",
        "    if volba == klic:\n",
        "      break\n",
        "    else:\n",
        "      continue\n",
        "  return slovnik[klic]"
      ],
      "execution_count": null,
      "outputs": []
    },
    {
      "cell_type": "code",
      "metadata": {
        "colab": {
          "base_uri": "https://localhost:8080/",
          "height": 658
        },
        "id": "PDt6mvOqS7q4",
        "outputId": "3966ea09-7cc7-40f2-d669-674b07037933"
      },
      "source": [
        "oddelovac = \"=\" * 80\n",
        "while True:\n",
        "  #procti jednotlive zaznamy\n",
        "  list_klicu = list(slovnik_dat.keys())\n",
        "  print(\"----\".join(list_klicu))\n",
        "  volba = input(\"Zadej co chces vedet jinak dej exit pro ukonceni: \").lower()\n",
        "  if volba == \"exit\":\n",
        "    break\n",
        "  elif volba not in list_klicu:\n",
        "    print(\"Klic neni ve slovniku.\")\n",
        "    continue\n",
        "  else:\n",
        "    print(volba_klice(volba, list_klicu, slovnik_dat))\n"
      ],
      "execution_count": 29,
      "outputs": [
        {
          "output_type": "stream",
          "name": "stdout",
          "text": [
            "base----clouds----cod----coord----dt----id----main----name----sys----timezone----visibility----weather----wind\n",
            "Zadej co chces vedet jinak dej exit pro ukonceni: main\n",
            "{'feels_like': 290.27, 'humidity': 71, 'pressure': 999, 'temp': 290.61, 'temp_max': 292.01, 'temp_min': 288.64}\n",
            "base----clouds----cod----coord----dt----id----main----name----sys----timezone----visibility----weather----wind\n",
            "Zadej co chces vedet jinak dej exit pro ukonceni: name\n",
            "London\n",
            "base----clouds----cod----coord----dt----id----main----name----sys----timezone----visibility----weather----wind\n"
          ]
        },
        {
          "output_type": "error",
          "ename": "KeyboardInterrupt",
          "evalue": "ignored",
          "traceback": [
            "\u001b[0;31m---------------------------------------------------------------------------\u001b[0m",
            "\u001b[0;31mKeyboardInterrupt\u001b[0m                         Traceback (most recent call last)",
            "\u001b[0;32m/usr/local/lib/python3.7/dist-packages/ipykernel/kernelbase.py\u001b[0m in \u001b[0;36m_input_request\u001b[0;34m(self, prompt, ident, parent, password)\u001b[0m\n\u001b[1;32m    728\u001b[0m             \u001b[0;32mtry\u001b[0m\u001b[0;34m:\u001b[0m\u001b[0;34m\u001b[0m\u001b[0;34m\u001b[0m\u001b[0m\n\u001b[0;32m--> 729\u001b[0;31m                 \u001b[0mident\u001b[0m\u001b[0;34m,\u001b[0m \u001b[0mreply\u001b[0m \u001b[0;34m=\u001b[0m \u001b[0mself\u001b[0m\u001b[0;34m.\u001b[0m\u001b[0msession\u001b[0m\u001b[0;34m.\u001b[0m\u001b[0mrecv\u001b[0m\u001b[0;34m(\u001b[0m\u001b[0mself\u001b[0m\u001b[0;34m.\u001b[0m\u001b[0mstdin_socket\u001b[0m\u001b[0;34m,\u001b[0m \u001b[0;36m0\u001b[0m\u001b[0;34m)\u001b[0m\u001b[0;34m\u001b[0m\u001b[0;34m\u001b[0m\u001b[0m\n\u001b[0m\u001b[1;32m    730\u001b[0m             \u001b[0;32mexcept\u001b[0m \u001b[0mException\u001b[0m\u001b[0;34m:\u001b[0m\u001b[0;34m\u001b[0m\u001b[0;34m\u001b[0m\u001b[0m\n",
            "\u001b[0;32m/usr/local/lib/python3.7/dist-packages/jupyter_client/session.py\u001b[0m in \u001b[0;36mrecv\u001b[0;34m(self, socket, mode, content, copy)\u001b[0m\n\u001b[1;32m    802\u001b[0m         \u001b[0;32mtry\u001b[0m\u001b[0;34m:\u001b[0m\u001b[0;34m\u001b[0m\u001b[0;34m\u001b[0m\u001b[0m\n\u001b[0;32m--> 803\u001b[0;31m             \u001b[0mmsg_list\u001b[0m \u001b[0;34m=\u001b[0m \u001b[0msocket\u001b[0m\u001b[0;34m.\u001b[0m\u001b[0mrecv_multipart\u001b[0m\u001b[0;34m(\u001b[0m\u001b[0mmode\u001b[0m\u001b[0;34m,\u001b[0m \u001b[0mcopy\u001b[0m\u001b[0;34m=\u001b[0m\u001b[0mcopy\u001b[0m\u001b[0;34m)\u001b[0m\u001b[0;34m\u001b[0m\u001b[0;34m\u001b[0m\u001b[0m\n\u001b[0m\u001b[1;32m    804\u001b[0m         \u001b[0;32mexcept\u001b[0m \u001b[0mzmq\u001b[0m\u001b[0;34m.\u001b[0m\u001b[0mZMQError\u001b[0m \u001b[0;32mas\u001b[0m \u001b[0me\u001b[0m\u001b[0;34m:\u001b[0m\u001b[0;34m\u001b[0m\u001b[0;34m\u001b[0m\u001b[0m\n",
            "\u001b[0;32m/usr/local/lib/python3.7/dist-packages/zmq/sugar/socket.py\u001b[0m in \u001b[0;36mrecv_multipart\u001b[0;34m(self, flags, copy, track)\u001b[0m\n\u001b[1;32m    624\u001b[0m         \"\"\"\n\u001b[0;32m--> 625\u001b[0;31m         \u001b[0mparts\u001b[0m \u001b[0;34m=\u001b[0m \u001b[0;34m[\u001b[0m\u001b[0mself\u001b[0m\u001b[0;34m.\u001b[0m\u001b[0mrecv\u001b[0m\u001b[0;34m(\u001b[0m\u001b[0mflags\u001b[0m\u001b[0;34m,\u001b[0m \u001b[0mcopy\u001b[0m\u001b[0;34m=\u001b[0m\u001b[0mcopy\u001b[0m\u001b[0;34m,\u001b[0m \u001b[0mtrack\u001b[0m\u001b[0;34m=\u001b[0m\u001b[0mtrack\u001b[0m\u001b[0;34m)\u001b[0m\u001b[0;34m]\u001b[0m\u001b[0;34m\u001b[0m\u001b[0;34m\u001b[0m\u001b[0m\n\u001b[0m\u001b[1;32m    626\u001b[0m         \u001b[0;31m# have first part already, only loop while more to receive\u001b[0m\u001b[0;34m\u001b[0m\u001b[0;34m\u001b[0m\u001b[0;34m\u001b[0m\u001b[0m\n",
            "\u001b[0;32mzmq/backend/cython/socket.pyx\u001b[0m in \u001b[0;36mzmq.backend.cython.socket.Socket.recv\u001b[0;34m()\u001b[0m\n",
            "\u001b[0;32mzmq/backend/cython/socket.pyx\u001b[0m in \u001b[0;36mzmq.backend.cython.socket.Socket.recv\u001b[0;34m()\u001b[0m\n",
            "\u001b[0;32mzmq/backend/cython/socket.pyx\u001b[0m in \u001b[0;36mzmq.backend.cython.socket._recv_copy\u001b[0;34m()\u001b[0m\n",
            "\u001b[0;32m/usr/local/lib/python3.7/dist-packages/zmq/backend/cython/checkrc.pxd\u001b[0m in \u001b[0;36mzmq.backend.cython.checkrc._check_rc\u001b[0;34m()\u001b[0m\n",
            "\u001b[0;31mKeyboardInterrupt\u001b[0m: ",
            "\nDuring handling of the above exception, another exception occurred:\n",
            "\u001b[0;31mKeyboardInterrupt\u001b[0m                         Traceback (most recent call last)",
            "\u001b[0;32m<ipython-input-29-1525628c0ccf>\u001b[0m in \u001b[0;36m<module>\u001b[0;34m()\u001b[0m\n\u001b[1;32m      4\u001b[0m   \u001b[0mlist_klicu\u001b[0m \u001b[0;34m=\u001b[0m \u001b[0mlist\u001b[0m\u001b[0;34m(\u001b[0m\u001b[0mslovnik_dat\u001b[0m\u001b[0;34m.\u001b[0m\u001b[0mkeys\u001b[0m\u001b[0;34m(\u001b[0m\u001b[0;34m)\u001b[0m\u001b[0;34m)\u001b[0m\u001b[0;34m\u001b[0m\u001b[0;34m\u001b[0m\u001b[0m\n\u001b[1;32m      5\u001b[0m   \u001b[0mprint\u001b[0m\u001b[0;34m(\u001b[0m\u001b[0;34m\"----\"\u001b[0m\u001b[0;34m.\u001b[0m\u001b[0mjoin\u001b[0m\u001b[0;34m(\u001b[0m\u001b[0mlist_klicu\u001b[0m\u001b[0;34m)\u001b[0m\u001b[0;34m)\u001b[0m\u001b[0;34m\u001b[0m\u001b[0;34m\u001b[0m\u001b[0m\n\u001b[0;32m----> 6\u001b[0;31m   \u001b[0mvolba\u001b[0m \u001b[0;34m=\u001b[0m \u001b[0minput\u001b[0m\u001b[0;34m(\u001b[0m\u001b[0;34m\"Zadej co chces vedet jinak dej exit pro ukonceni: \"\u001b[0m\u001b[0;34m)\u001b[0m\u001b[0;34m.\u001b[0m\u001b[0mlower\u001b[0m\u001b[0;34m(\u001b[0m\u001b[0;34m)\u001b[0m\u001b[0;34m\u001b[0m\u001b[0;34m\u001b[0m\u001b[0m\n\u001b[0m\u001b[1;32m      7\u001b[0m   \u001b[0;32mif\u001b[0m \u001b[0mvolba\u001b[0m \u001b[0;34m==\u001b[0m \u001b[0;34m\"exit\"\u001b[0m\u001b[0;34m:\u001b[0m\u001b[0;34m\u001b[0m\u001b[0;34m\u001b[0m\u001b[0m\n\u001b[1;32m      8\u001b[0m     \u001b[0;32mbreak\u001b[0m\u001b[0;34m\u001b[0m\u001b[0;34m\u001b[0m\u001b[0m\n",
            "\u001b[0;32m/usr/local/lib/python3.7/dist-packages/ipykernel/kernelbase.py\u001b[0m in \u001b[0;36mraw_input\u001b[0;34m(self, prompt)\u001b[0m\n\u001b[1;32m    702\u001b[0m             \u001b[0mself\u001b[0m\u001b[0;34m.\u001b[0m\u001b[0m_parent_ident\u001b[0m\u001b[0;34m,\u001b[0m\u001b[0;34m\u001b[0m\u001b[0;34m\u001b[0m\u001b[0m\n\u001b[1;32m    703\u001b[0m             \u001b[0mself\u001b[0m\u001b[0;34m.\u001b[0m\u001b[0m_parent_header\u001b[0m\u001b[0;34m,\u001b[0m\u001b[0;34m\u001b[0m\u001b[0;34m\u001b[0m\u001b[0m\n\u001b[0;32m--> 704\u001b[0;31m             \u001b[0mpassword\u001b[0m\u001b[0;34m=\u001b[0m\u001b[0;32mFalse\u001b[0m\u001b[0;34m,\u001b[0m\u001b[0;34m\u001b[0m\u001b[0;34m\u001b[0m\u001b[0m\n\u001b[0m\u001b[1;32m    705\u001b[0m         )\n\u001b[1;32m    706\u001b[0m \u001b[0;34m\u001b[0m\u001b[0m\n",
            "\u001b[0;32m/usr/local/lib/python3.7/dist-packages/ipykernel/kernelbase.py\u001b[0m in \u001b[0;36m_input_request\u001b[0;34m(self, prompt, ident, parent, password)\u001b[0m\n\u001b[1;32m    732\u001b[0m             \u001b[0;32mexcept\u001b[0m \u001b[0mKeyboardInterrupt\u001b[0m\u001b[0;34m:\u001b[0m\u001b[0;34m\u001b[0m\u001b[0;34m\u001b[0m\u001b[0m\n\u001b[1;32m    733\u001b[0m                 \u001b[0;31m# re-raise KeyboardInterrupt, to truncate traceback\u001b[0m\u001b[0;34m\u001b[0m\u001b[0;34m\u001b[0m\u001b[0;34m\u001b[0m\u001b[0m\n\u001b[0;32m--> 734\u001b[0;31m                 \u001b[0;32mraise\u001b[0m \u001b[0mKeyboardInterrupt\u001b[0m\u001b[0;34m\u001b[0m\u001b[0;34m\u001b[0m\u001b[0m\n\u001b[0m\u001b[1;32m    735\u001b[0m             \u001b[0;32melse\u001b[0m\u001b[0;34m:\u001b[0m\u001b[0;34m\u001b[0m\u001b[0;34m\u001b[0m\u001b[0m\n\u001b[1;32m    736\u001b[0m                 \u001b[0;32mbreak\u001b[0m\u001b[0;34m\u001b[0m\u001b[0;34m\u001b[0m\u001b[0m\n",
            "\u001b[0;31mKeyboardInterrupt\u001b[0m: "
          ]
        }
      ]
    },
    {
      "cell_type": "code",
      "metadata": {
        "id": "tU_3JWfmR5j_"
      },
      "source": [
        "def volba_klice(volba, klice, slovnik):\n",
        "  for klic in klice:\n",
        "    if volba == klic:\n",
        "      break\n",
        "    else:\n",
        "      continue\n",
        "  return slovnik[klic]"
      ],
      "execution_count": 24,
      "outputs": []
    }
  ]
}