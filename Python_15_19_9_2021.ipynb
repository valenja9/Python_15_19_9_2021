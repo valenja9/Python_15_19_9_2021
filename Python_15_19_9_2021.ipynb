{
  "nbformat": 4,
  "nbformat_minor": 0,
  "metadata": {
    "colab": {
      "name": "Python_15_19_9_2021.ipynb",
      "provenance": [],
      "authorship_tag": "ABX9TyN6DGxpD63ZgIDDj2WMJUaD",
      "include_colab_link": true
    },
    "kernelspec": {
      "name": "python3",
      "display_name": "Python 3"
    },
    "language_info": {
      "name": "python"
    }
  },
  "cells": [
    {
      "cell_type": "markdown",
      "metadata": {
        "id": "view-in-github",
        "colab_type": "text"
      },
      "source": [
        "<a href=\"https://colab.research.google.com/github/valenja9/Python_15_19_9_2021/blob/main/Python_15_19_9_2021.ipynb\" target=\"_parent\"><img src=\"https://colab.research.google.com/assets/colab-badge.svg\" alt=\"Open In Colab\"/></a>"
      ]
    },
    {
      "cell_type": "markdown",
      "metadata": {
        "id": "gAPotzIR2lhz"
      },
      "source": [
        "# Prvni hodina Pythonu"
      ]
    },
    {
      "cell_type": "code",
      "metadata": {
        "colab": {
          "base_uri": "https://localhost:8080/"
        },
        "id": "SjMp-gQ81ew-",
        "outputId": "e8961ab3-a761-4e6a-b16e-1d1e181bafa4"
      },
      "source": [
        "#Tento kod funguje jen pro jednu osobu.\n",
        "krestni_jmeno = \"Jakub\" #pomoci \"\" udelam text ..... string a spojeny nazev je pomoci _\n",
        "prijmeni = \"Valenta\"\n",
        "vek = 27 #cislo beze uvozovek je cele cislo!\n",
        "print(\"Tvoje krestni jmeno je:\", krestni_jmeno, \"Tvoje prijmeni je:\", prijmeni,\"Je ti:\", vek)  #print je funkce a ta ma jmeno a pak ji mohu volat pomoci ()"
      ],
      "execution_count": null,
      "outputs": [
        {
          "output_type": "stream",
          "name": "stdout",
          "text": [
            "Tvoje krestni jmeno je: Jakub Tvoje prijmeni je: Valenta Je ti: 27\n"
          ]
        }
      ]
    },
    {
      "cell_type": "code",
      "metadata": {
        "id": "S9OjQfSf6f8p"
      },
      "source": [
        "print = \"text\"\n",
        "del print"
      ],
      "execution_count": null,
      "outputs": []
    },
    {
      "cell_type": "code",
      "metadata": {
        "colab": {
          "base_uri": "https://localhost:8080/"
        },
        "id": "yjW4E3Vv9OuI",
        "outputId": "216b7f3d-38dd-4ee2-8fda-31f49f0e5951"
      },
      "source": [
        "print(\"a\" + \"b\")"
      ],
      "execution_count": null,
      "outputs": [
        {
          "output_type": "stream",
          "name": "stdout",
          "text": [
            "a                                                          ab\n"
          ]
        }
      ]
    },
    {
      "cell_type": "code",
      "metadata": {
        "colab": {
          "base_uri": "https://localhost:8080/"
        },
        "id": "VISTPNHV-tQQ",
        "outputId": "a3de23e3-e4f1-4ad1-8353-690817eb7eca"
      },
      "source": [
        "print(\"=\" * 80)"
      ],
      "execution_count": null,
      "outputs": [
        {
          "output_type": "stream",
          "name": "stdout",
          "text": [
            "================================================================================\n"
          ]
        }
      ]
    },
    {
      "cell_type": "markdown",
      "metadata": {
        "id": "ru_96LOO-3pk"
      },
      "source": [
        ""
      ]
    },
    {
      "cell_type": "code",
      "metadata": {
        "colab": {
          "base_uri": "https://localhost:8080/"
        },
        "id": "xYHz0XvL_hf1",
        "outputId": "1a29061d-7426-4c34-d9ba-85a21e9bfc77"
      },
      "source": [
        "type(krestni_jmeno)"
      ],
      "execution_count": null,
      "outputs": [
        {
          "output_type": "execute_result",
          "data": {
            "text/plain": [
              "str"
            ]
          },
          "metadata": {},
          "execution_count": 28
        }
      ]
    },
    {
      "cell_type": "code",
      "metadata": {
        "colab": {
          "base_uri": "https://localhost:8080/",
          "height": 35
        },
        "id": "ZkzZKC35_6Qv",
        "outputId": "9d074c86-f03f-4f6a-ab25-1b8c6096d585"
      },
      "source": [
        "krestni_jmeno.title()"
      ],
      "execution_count": null,
      "outputs": [
        {
          "output_type": "execute_result",
          "data": {
            "application/vnd.google.colaboratory.intrinsic+json": {
              "type": "string"
            },
            "text/plain": [
              "'J'"
            ]
          },
          "metadata": {},
          "execution_count": 29
        }
      ]
    },
    {
      "cell_type": "code",
      "metadata": {
        "id": "AZu5_z-y_vIn"
      },
      "source": [
        "list_jmen = [\"Jakub\", \"Petr\", \"Kamil\", \"Milan\"]"
      ],
      "execution_count": null,
      "outputs": []
    },
    {
      "cell_type": "code",
      "metadata": {
        "colab": {
          "base_uri": "https://localhost:8080/"
        },
        "id": "gAOe4fVT5G-h",
        "outputId": "633a1454-9c6e-4d7b-d3cc-e75c732e17c2"
      },
      "source": [
        "#Tento kod funguje pro kohokoliv.\n",
        "#Tento kod funguje jen pro jednu osobu.\n",
        "oddelovac = \"=\" * 50\n",
        "print(oddelovac)\n",
        "krestni_jmeno = input(\"Zadej krestni jmeno: \").title() #pomoci \"\" udelam text ..... string a spojeny nazev je pomoci _\n",
        "print(oddelovac)\n",
        "prijmeni = input(\"Zadej prijmeni: \").title()\n",
        "print(oddelovac)\n",
        "vek = input(\"Zadej svuj vek: \") #cislo beze uvozovek je cele cislo!\n",
        "print(oddelovac)\n",
        "print(\"Tvoje krestni jmeno je: \" + krestni_jmeno, \"Tvoje prijmeni je: \" +  prijmeni,\"Je ti: \" + vek + \" let\", sep=\"\\n\")  \n",
        "print(oddelovac)\n",
        "#print je funkce a ta ma jmeno a pak ji mohu volat pomoci ()"
      ],
      "execution_count": null,
      "outputs": [
        {
          "output_type": "stream",
          "name": "stdout",
          "text": [
            "==================================================\n",
            "Zadej krestni jmeno: JAKUB\n",
            "==================================================\n",
            "Zadej prijmeni: kAREL\n",
            "==================================================\n",
            "Zadej svuj vek: 23\n",
            "==================================================\n",
            "Tvoje krestni jmeno je: Jakub\n",
            "Tvoje prijmeni je: Karel\n",
            "Je ti: 23 let\n",
            "==================================================\n"
          ]
        }
      ]
    },
    {
      "cell_type": "code",
      "metadata": {
        "colab": {
          "base_uri": "https://localhost:8080/"
        },
        "id": "aEXVqOtVAuH_",
        "outputId": "f12eb280-a018-4934-c876-e48770fc252f"
      },
      "source": [
        "#              0        1       2         3 (-1)\n",
        "list_jmen = [\"}\",\"Jakub\", \"Petr\", \"Kamil\", \"Milan\", \"|\"]\n",
        "#i z kamila a jen Petra a Milana [\"Petr\", \"Milan\"]\n",
        "print(list_jmen[2])\n",
        "print(list_jmen[1:-1])"
      ],
      "execution_count": null,
      "outputs": [
        {
          "output_type": "stream",
          "name": "stdout",
          "text": [
            "Petr\n",
            "['Jakub', 'Petr', 'Kamil', 'Milan']\n"
          ]
        }
      ]
    },
    {
      "cell_type": "code",
      "metadata": {
        "colab": {
          "base_uri": "https://localhost:8080/"
        },
        "id": "24Vj1qXqB_iF",
        "outputId": "d0b460c8-bf7b-45eb-a5c7-c4484eb62ad2"
      },
      "source": [
        "print(list_jmen[-3][-2])\n",
        "print(list_jmen[3][3])\n",
        "print(list_jmen[2:5:2])\n",
        "print(list_jmen[2:3] + list_jmen[4:5])"
      ],
      "execution_count": null,
      "outputs": [
        {
          "output_type": "stream",
          "name": "stdout",
          "text": [
            "i\n",
            "i\n",
            "['Petr', 'Milan']\n",
            "['Petr', 'Milan']\n"
          ]
        }
      ]
    }
  ]
}